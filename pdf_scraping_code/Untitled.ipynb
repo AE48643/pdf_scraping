{
 "cells": [
  {
   "cell_type": "code",
   "execution_count": 23,
   "id": "ea71157f-07c7-4f99-a0bd-3ad34109838d",
   "metadata": {},
   "outputs": [],
   "source": [
    "import pdfplumber\n",
    "import pandas as pd\n",
    "import re\n",
    "import pytesseract\n",
    "from pdf2image import convert_from_path\n",
    "from docx import Document"
   ]
  },
  {
   "cell_type": "code",
   "execution_count": 24,
   "id": "c2bb6387-b782-42d9-b964-065211eb5d0f",
   "metadata": {},
   "outputs": [],
   "source": [
    "#Converting Pdf to image from the path\n",
    "pdf_file_path = \"/workspaces/pdf_scraping/pdf_file/DA SP25.pdf\"\n",
    "poppler_path = r\"/workspaces/pdf_scraping/poppler/poppler-21.11.0/Library/bin\"\n",
    "\n",
    "images = convert_from_path(pdf_file_path)"
   ]
  },
  {
   "cell_type": "code",
   "execution_count": 25,
   "id": "c0a65c28",
   "metadata": {},
   "outputs": [],
   "source": [
    "#Requirments & conditions for the code\n",
    "\n",
    "Credit_Info = {\n",
    "    \"Minor\": [],\n",
    "    \"Catagory\": [],\n",
    "    \"C\": [],\n",
    "    \"MC\": [],\n",
    "    \"TC\": [],\n",
    "    \"R\": [],\n",
    "    \"TR\": [],\n",
    "    \"MR\": [],\n",
    "    \"InP\": [],\n",
    "}\n",
    "letter = \"studentID\"\n",
    "not_applied = False\n",
    "document = Document()\n"
   ]
  },
  {
   "cell_type": "code",
   "execution_count": null,
   "id": "645e418f",
   "metadata": {},
   "outputs": [
    {
     "name": "stdout",
     "output_type": "stream",
     "text": [
      "OCR text successfully extracted and saved to output.docx\n"
     ]
    }
   ],
   "source": [
    "for i, img in enumerate(images):\n",
    "    text = pytesseract.image_to_string(img)\n",
    "\n",
    "    # Clean text to remove NULL bytes and control characters\n",
    "    \n",
    "    cleaned_text = re.sub(r\"[\\x00-\\x1F\\x7F]\", \"\", text)  # Remove all control characters\n",
    "\n",
    "    lines = cleaned_text.split(\"\\n\")  # Fix line splitting\n",
    "\n",
    "    if lines:\n",
    "        for line in lines:\n",
    "            document.add_paragraph(line)  # Add cleaned text to Word document\n",
    "    else:\n",
    "        print(f\"No content found on page {i + 1}\")\n",
    "\n",
    "# Save document\n",
    "document.save(\"output.docx\")\n",
    "print(\"OCR text successfully extracted and saved to output.docx\")\n"
   ]
  }
 ],
 "metadata": {
  "kernelspec": {
   "display_name": "Python 3",
   "language": "python",
   "name": "python3"
  },
  "language_info": {
   "codemirror_mode": {
    "name": "ipython",
    "version": 3
   },
   "file_extension": ".py",
   "mimetype": "text/x-python",
   "name": "python",
   "nbconvert_exporter": "python",
   "pygments_lexer": "ipython3",
   "version": "3.12.1"
  }
 },
 "nbformat": 4,
 "nbformat_minor": 5
}
