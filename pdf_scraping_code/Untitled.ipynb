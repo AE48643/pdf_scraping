{
 "cells": [
  {
   "cell_type": "code",
   "execution_count": 12,
   "id": "ea71157f-07c7-4f99-a0bd-3ad34109838d",
   "metadata": {},
   "outputs": [],
   "source": [
    "import pdfplumber\n",
    "import pandas as pd\n",
    "import re\n",
    "import pytesseract\n",
    "from pdf2image import convert_from_path"
   ]
  },
  {
   "cell_type": "code",
   "execution_count": 13,
   "id": "c2bb6387-b782-42d9-b964-065211eb5d0f",
   "metadata": {},
   "outputs": [],
   "source": [
    "#Converting Pdf to image from the path\n",
    "pdf_file_path = \"/workspaces/pdf_scraping/pdf_file/DA SP25.pdf\"\n",
    "poppler_path = r\"/workspaces/pdf_scraping/poppler/poppler-21.11.0/Library/bin\"\n",
    "\n",
    "image = convert_from_path(pdf_file_path)"
   ]
  },
  {
   "cell_type": "code",
   "execution_count": 14,
   "id": "c0a65c28",
   "metadata": {},
   "outputs": [],
   "source": [
    "#Requirments & conditions for the code\n",
    "\n",
    "Credit_Info = {\n",
    "    \"Minor\": [],\n",
    "    \"Catagory\": [],\n",
    "    \"C\": [],\n",
    "    \"MC\": [],\n",
    "    \"TC\": [],\n",
    "    \"R\": [],\n",
    "    \"TR\": [],\n",
    "    \"MR\": [],\n",
    "    \"InP\": [],\n",
    "}\n",
    "\n",
    "not_applied = False,\n"
   ]
  },
  {
   "cell_type": "code",
   "execution_count": 17,
   "id": "645e418f",
   "metadata": {},
   "outputs": [
    {
     "name": "stdout",
     "output_type": "stream",
     "text": [
      "['3/26/2025\\n\\nStudentID: A0000048643\\nName: Essay, Amen Endrias\\nProgram: Computer Science\\nRevision Term: FA-21\\n\\nCohort: FA21-FTF\\nAnticipated Grad Term: SP-25\\n\\nComputer Science\\n\\nMin. Credit Req: 120.00\\n\\nTrinity Christian Colleae\\n\\nPage 1 of 4\\n\\nDegree Audit Report\\n\\nCollege Level: Senior\\n\\nDegree: BACHELOR OF ARTS\\n\\nAdvisors\\nSchmitt, Karl\\n\\nExpected Commencement Date: May 02, 2025\\n\\nSP-25 | FDNCC THEATRE FOR 3.00} COMM27 Jin\\nSOCIAL CHANGE 2 P\\n\\nMin. Program GPA: 2.00\\n\\n \\n\\nFoundations: Computing/Data Analyics\\n\\nMin. Credit Req: 46.00\\n\\n \\n\\n    \\n \\n\\nFoundations: Thrive\\n\\nMin. Credits Req: 4.00\\n\\nFA-21 FDN101 THRIVE\\n\\nSP-23 | FDN201 COURAGE,\\nCREATIVITY, AND\\nCALLING\\n\\nCrd Completed: 4.00 Completed\\n\\nMin. Requirement GPA: 0.70\\n\\nRequired\\n\\nMin. Group GPA: 0.70\\n\\n2.00} A | FDN101\\n2.00] A FDN201\\n\\nGroup GPA: 4.00\\n\\n  \\n  \\n\\n \\n\\n   \\n\\n \\n\\nCrd Completed: 0.00 Crd. Remaining 3.00 Group GPA: 0.00\\n\\nFoundations: Interdisciplinary Inquiry Required\\n\\nMin. Credits Req: 3.00 Min. Group GPA: 0.70\\n\\n—\\n\\nGroup GPA: 4.00\\n\\n \\n\\nFA-22 PHIL102 VOCATIONAL\\nDISCERNMENT AND.\\nFAITH\\n\\nCrd Completed: 3.00 Completed\\n\\n \\n\\n \\n\\nFoundations: Christian Scriptures\\n\\nMin. Credits Req: 3.00\\n\\nRequired\\n\\nMin. Group GPA: 0.70\\n\\n \\n\\n \\n\\nFA-21 THEO131\\n\\nCHRISTIAN\\nSCRIPTURES\\n\\n \\n\\nCrd Completed: 3.00\\n\\nCompleted\\n\\n \\n\\n3.00| c+ | THEO131\\n\\nGroup GPA: 2.30\\n\\n \\n\\nFoundations: World Cultures Required\\n\\nMin. Credits Req: 0.00 Min. Group GPA: 0.70\\n\\nSIGN LANGUAGE\\n\\nCrd Completed: 3.00 Completed Group GPA: 4.00\\n\\n \\n\\n \\n\\nFoundations: Christian Traditions\\n\\nMin. Credits Req: 3.00\\n\\nRequired\\n\\nMin. Group GPA: 0.70\\n\\n \\n\\nSP-22 | THEO132\\n\\nTHE BODY OF\\nCHRIST AND ITS\\nTRADITIONS\\n\\n \\n\\nCrd Completed: 3.00 Completed\\n\\n3.00] A- | THEO132\\n\\nGroup GPA: 3.70\\n\\n \\n\\n \\n\\n \\n\\nFoundations: Philosophical Perspectives\\n\\n  \\n \\n\\nMin. Credits Req: 3.00\\n\\nSP-23 | PHIL101 PHILOSOPHICAL\\nPERSPECTIVES IN\\nWORLDVIEW\\n\\nCrd Completed: 3.00 Completed\\n\\nFoundations: Chicago Connect\\n\\nMin. Credits Req: 3.00\\n\\n \\n\\n21-22 Chicago\\nConnect\\n\\nRequired\\n\\nMin. Group GPA: 0.70\\n\\n_\\n\\nGroup GPA: 3.30\\n\\nRequired\\nMin. Group GPA: 0.70\\n\\n0.00)\\n\\n  \\n  \\n\\n \\n\\n \\n\\n \\n\\nC- Completed\\nMC- Manual Map Completed TC-\\n\\nMR- Manual Map Remaining\\nTransfer Completed R-\\n\\nTR- Transfer Remaining\\nRemaining\\n\\nFoundations: Thinking and Writing Required\\n\\nMin. Credits Req: 3.00 Min. Group GPA: 0.70\\n\\n \\n\\nFA-21 | TW113 THINKING AND 3.00] A | TW113 c\\n\\nWRITING IN CODE\\n\\n \\n\\n \\n\\nCrd Completed: 3.00\\n\\nCompleted Group GPA: 4.00\\n\\nFoundations: Oral and Digital Communication Required\\n\\nMin. Credits Req: 3.00 Min. Group GPA: 0.70\\n\\n \\n\\nFA-21 COMM105_ | ORALAND DIGITAL\\n\\n3.00] Bt |COMM10 |c\\nCOMMUNICATION 5\\n\\n \\n\\n \\n\\nCrd Completed: 3.00 Completed Group GPA: 3.30\\n\\nFoundations: Literature and Society Required\\n\\nMin. Credits Req: 3.00 Min. Group GPA: 0.70\\n\\n \\n\\n \\n\\n \\n\\n \\n\\nFA-22 ENGL105 LITERATURE AND 3.00] B+ |ENGL105 Jc\\nSOCIETY\\nCrd Completed: 3.00 Completed Group GPA: 3.30\\n\\n*~ Credits Summarized\\nNN-Not Necessary\\n\\nInp- In Progress\\nE - Extra Course\\n\\nTransferred course grades are not calculated in the GPA.\\n\\x0c']\n",
      "['Trinity Christian Colleae\\n3/26/2025 Page 2 of 4\\n\\nDegree Audit Report\\n\\nStudentID: A0000048643 Degree: BACHELOR OF ARTS\\n\\nName: Essay, Amen Endrias\\n\\nProgram: Computer Science Advisors\\nRevision Term: FA-21 College Level: Senior Schmitt, Karl\\nCohort: FA21-FTF\\n\\nAnticipated Grad Term: SP-25 Expected Commencement Date: May 02, 2025\\n\\n \\n\\n    \\n \\n\\nFoundations: Historical Consciousness Required Foundations: Language Required\\n\\nMin. Credits Req: 3.00 Min. Group GPA: 0.70\\n\\nFA-23 HIST105 HISTORICAL HIST105\\nCONSCIOUSNESS\\n\\nCrd Completed: 3.00 Completed Group GPA: 2.70\\n\\nMin. Credits Req: 0.00 Min. Group GPA: 0.00\\n\\n  \\n \\n \\n \\n\\nFDNLANG_ | FOREIGN wv |FORLWV |Tc\\nLANGUAGE\\nREQUIREMENT\\n\\nCrd Completed: 0.00 Completed Group GPA: 0.00\\n\\n \\n\\n    \\n \\n\\nFoundations: Social Science Required .\\nRequirement Summary\\n\\n  \\n \\n \\n \\n\\nMin. Credits Req: 3.00 Min. Group GPA: 0.70 Crd Completed: 39.00 Crd. Remaining: 7.00 Req. GPA: 3.47\\n5 ECON12\\nSp-24 ECON121 MACROECONOMIC | sods [eeome Le | Major: Computer Science (BA-Updated)\\nMin. Credit Req: 50.00 Min. Requirement GPA: 2.00\\n\\nCrd Completed: 3.00 Completed Group GPA: 4.00\\n\\n \\n\\n    \\n \\n\\n \\n\\n  \\n \\n \\n \\n\\nMajor: Computing and Data Core Required\\nFoundations: Fine Arts Required . .\\nMin. Credits Req: 6.00 Min. Group GPA: 0.70\\nMin. Credits Req: 3.00 Min. Group GPA: 0.70\\nin reals Red In Group FA-21 | CPsc111_ | ELEMENTS OF 3.00] A |CPSCI11 Ic\\nMUSIC IN CONTEXT PROGRAMMING |\\nFA-22 | CPSC201_ | DATASTRUCTURES 3.00] B | CPSC201 Ic\\nCrd Completed: 3.00 Completed Group GPA: 2.70 AND DATABASES\\n\\n \\n\\nCrd Completed: 6.00 Completed Group GPA: 3.50\\n\\n \\n\\nFoundations: Scientific Thinking Required\\n\\n  \\n \\n\\n \\n\\nMajor: Computing and Data Core 2 Required\\n\\nGroup has Formula Min. Group GPA: 0.70\\n\\n  \\n \\n\\nMin. Credits Req: 3.00 Min. Group GPA: 0.70\\n\\n  \\n  \\n\\n21-22 Science\\n\\n   \\n\\nScl102\\n\\n   \\n \\n\\nScl102 SCIENTIFIC\\n\\nTHINKING\\n\\n \\n \\n \\n \\n    \\n  \\n  \\n\\n \\n\\n \\n\\nCrd Completed: 0.00 Remaining Group GPA: 0.00 Crd Completed: 3.00 Completed Group GPA: 4.00\\n\\n \\n\\n \\n\\nFoundations: Wellness Required\\n\\n  \\n \\n\\nMajor: Computing and Data Core 3 Required\\n\\nMin. Group GPA: 0.70\\n\\n  \\n  \\n\\nMin. Credits Req: 2.00 Min. Group GPA: 0.70 Min. Credits Req: 3.00\\n\\n \\n\\n   \\n\\nPERK110 PERK110\\n\\nLIFETIME\\nPHYSICAL\\n\\nWELLNESS\\n\\nLIFETIME\\nNUTRITIONAL\\nWELLNESS\\n\\nDATA100_—_| DATA DATA100\\nFUNDAMENTALS\\n\\nDATA140 BASIC DESIGN DATA140\\nPRINCIPES FOR\\nVISUALIZATION\\n\\n   \\n   \\n   \\n      \\n \\n\\n \\n\\nPERK112\\n\\n    \\n\\nPERK112\\n\\n \\n \\n   \\n \\n  \\n\\nCrd Completed: 3.00 Completed Group GPA: 3.50\\nCrd Completed: 2.00 Completed Group GPA: 3.65,\\n\\n \\n\\n \\n\\n \\n\\n \\n\\nMajor: Computing and Data Core 4 Required\\nMin. Credits Req: 1.00 Min. Group GPA: 0.70\\nC- Completed MR- Manual Map Remaining TR- Transfer Remaining Inp- In Progress * - Credits Summarized\\nMC- Manual Map Completed TC- Transfer Completed R- Remaining E - Extra Course NN-Not Necessary\\n\\nTransferred course grades are not calculated in the GPA.\\n\\x0c']\n",
      "[\"Trinity Christian Colleae\\n\\n3/26/2025 Page 3 of 4\\nDegree Audit Report\\n\\nStudentID: A0000048643 Degree: BACHELOR OF ARTS\\n\\nName: Essay, Amen Endrias\\n\\nProgram: Computer Science Advisors\\n\\nRevision Term: FA-21 College Level: Senior Schmitt, Karl\\n\\nCohort: FA21-FTF\\n\\nAnticipated Grad Term: SP-25 Expected Commencement Date: May 02, 2025\\n\\nFA-23 | DATA230 ETHICAL 2.00] DATA230 {Cc\\nPRACTICES IN\\nDATA\\n\\n   \\n   \\n   \\n   \\n\\n  \\n \\n\\nMajor: Computer Science (CPSC, DATA) Required\\n\\nMin. Credits Req: 3.00 Min. Group GPA: 0.70\\n\\nSP-22 | CPSC260 | BUSINESS 3.00] A | CPSC260\\nCOMPUTING\\n\\nCrd Completed: 3.00 Completed Group GPA: 4.00\\n\\nCrd Completed: 2.00 Completed Group GPA: 3.00\\n\\n \\n\\n    \\n  \\n\\n  \\n \\n\\nMajor: Computing and Data Core 5 Required\\n\\nMin. Credits Req: 3.00 Min. Group GPA: 0.70\\n\\nMATHEMATICS\\nMin. Credits Req: 3.00 Min. Group GPA: 0.70\\nCrd Completed: 3.00 Completed Group GPA: 4.00 SP-23 cpsc261 WEB 3.00 CPSc261 c\\nARCHITECTURE\\nMajor: Computer Science Required AND DESIGN\\n\\nCrd Completed: 3.00 Completed Group GPA: 1.00\\n\\n  \\n \\n\\nMajor: Computer Science (CPSC 200+) Required\\n\\n \\n\\n \\n\\nMin. Credits Req: 12.00 Min. Group GPA: 0.70\\nCPSC112 ELEMENTS OF oe 7\\nPROGRAMMING II Major: Computer Science (CPSC) Required\\nCPSC402_ | SR DESIGN IN Min. Credits Req: 3.00 Min. Group GPA: 0.70\\n\\nSP-23 | CPSC332 | COMPUTING 3.00] A- | CPSC332\\nADMINISTRATION\\n\\nCOMP SCI & DATA\\nANALYTICS |\\n\\nCPSC403 SR DESIGN IN\\nCOMP SCI & DATA\\n\\n \\n\\n \\n\\n \\n\\n \\n\\n \\n\\n \\n\\n \\n\\n \\n\\n \\n\\n \\n\\n \\n\\n \\n\\n \\n\\n \\n\\n \\n\\n \\n\\n \\n\\n  \\n\\nANALYTICS II Crd Completed: 3.00 Completed Group GPA: 3.70\\nCPSC490 RESEARCH FIELD\\nEDUCATION Major: Computer Science (CPSC or DATA) Required\\nCrd Completed: 6.00 Crd. Remaining 6.00 Group GPA: 4.00 Min. Credits Req: 3.00 Min. Group GPA: 0.70\\n7 ; , FA-23 | DATA170 INTRO TO WEB 3.00] A |DATA170 Jc\\nMajor: Computer Science (Math) Required DATA & ANLYTCS\\n, , FOR SEARCH ENG\\nMin. Credits Req: 3.00 Min. Group GPA: 0.70 OPTIMIZATION\\n5 - | MATH142\\nSP-24 | MATH142 | DISCRETE MATH 3.00) A c Crd Completed: 3.00 Completed Group GPA: 4.00\\nFOR COMPUTING\\nCrd Completed: 3.00 Completed Group GPA: 3.70 Requirement Summary\\nCrd Completed: 41.00 Crd. Remaining: 9.00 Req. GPA: 3.56\\nMajor: Computer Science (Add'l Math) Required\\nMinor: Business\\nMin. Credits Req: 3.00 Min. Group GPA: 0.70\\nMin. Credit Req: 18.00 Min. Requirement GPA: 2.00\\nSP-22 | MATH151__| STATISTICS san] A MATH151 [e |\\nMinor: Business Required\\nCrd Completed: 3.00 Completed Group GPA: 3.70\\nMin. Credits Req: 12.00 Min. Group GPA: 2.00\\nFA-23 ACCT221 FINANCIAL 3.00] B+ | ACCT221\\nACCOUNTING\\nC- Completed MR- Manual Map Remaining TR- Transfer Remaining Inp- In Progress * - Credits Summarized\\nMC- Manual Map Completed TC- Transfer Completed R- Remaining E - Extra Course NN-Not Necessary\\n\\nTransferred course grades are not calculated in the GPA.\\n\\x0c\"]\n",
      "['Trinity Christian Colleae\\n3/26/2025 Page 4 of 4\\n\\nDegree Audit Report\\n\\nStudentID: A0000048643 Degree: BACHELOR OF ARTS\\n\\nName: Essay, Amen Endrias\\n\\n \\n\\n \\n\\n \\n\\nProgram: Computer Science Advisors\\nRevision Term: FA-21 College Level: Senior Schmitt, Karl\\nCohort: FA21-FTF\\nAnticipated Grad Term: SP-25 Expected Commencement Date: May 02, 2025\\nBUAD121_ | PRINCIPLES OF . BUAD121 BUAD241_ | BUSINESS J BUAD241\\nBUSINESS FINANCE\\nBUAD131__| PRINCIPLES OF . BUAD131 COOP230 | COOPERATIVE 7 COOP23\\nMARKETING LEARNING II 0\\nECON121_ | MACROECONOMIC . ECON12 COoP310 | COOPERATIVE J COOP31\\ns 1 LEARNING III 0\\nDATA250\\nCrd Completed: 12.00 Completed Group GPA: 3.75 DATA250 | TOPICS IN :\\nPROGRAMMING\\nFOR DATA\\nMinor: Business (choose two) Required ANALYTICS:\\nPOWER BI\\nMin. Credits Req: 6.00 Min. Group GPA: 2.00 DATA250__| TOPICS IN . DATA250\\nPROGRAMMING\\nSP-24 | ACCT222 | MANAGERIAL 3.00] A- | ACCT222 Ic FOR DATA\\nACCOUNTING ANALYTICS:\\nFA-24 | BUAD332_ | BUSINESS 3.00] B- }DATA260 |c PYTHON\\nANALYTICS DATA340_—_ | ADVANCED DATA . DATA340\\n\\n \\n\\nVISUALIZATION\\nCrd Completed: 6.00 Completed Group GPA: 3.20 WCWV WORLD CULTURES\\n\\nWAIVER\\n\\n \\n\\n \\n\\n \\n\\n \\n\\nRequirement Summary\\n\\nCrd Completed: 18.00 Completed Req. GPA: 3.57\\n\\n \\n\\n \\n\\nGeneral Electives Requirement Summary\\n\\nMin. Credit Req: 7.00 Min. Requirement GPA: 0.70\\n\\n. Program Summary\\nGeneral Electives Required\\n\\nCrd. Completed: 99.00 Crd. Remaining: 21.00 Prog. GPA:\\n\\n \\n\\nMin. Credits Req: 7.00 Min. Group GPA: 0.00\\n\\nTranscript GPA: 3.47\\n\\nCSEM400_ | MICRO-INTERNSHIP CSEM40\\n\\nMI --FIELD OMI\\nEDUCATION/PROFE Notes:\\nSSIONAL SEMINAR\\n\\nMUSC127_ | PERCUSSION MUSC12\\nLESSONS | 7\\n\\nPSYC121 INTRODUCTION TO PSYC121\\nPSYCHOLOGY\\n\\nTranscript Earned: 105.00\\n\\nCrd Completed: 7.00 Completed Group GPA: 3.87\\n\\n \\n\\nRequirement Summary\\n\\nCrd Completed: 7.00 Completed Req. GPA: 3.87\\n\\n \\n\\nOther Courses Taken\\n\\nNot Applied To Audit\\n\\n \\n\\n \\n\\nC- Completed MR- Manual Map Remaining TR- Transfer Remaining Inp- In Progress * - Credits Summarized\\nMC- Manual Map Completed TC- Transfer Completed R- Remaining E - Extra Course NN-Not Necessary\\n\\nTransferred course grades are not calculated in the GPA.\\n\\x0c']\n"
     ]
    }
   ],
   "source": [
    "for i,img in enumerate(image):\n",
    "    text = pytesseract.image_to_string(img)\n",
    "    line = text.split(\"/n\")\n",
    "\n",
    "    if text:\n",
    "        print(line)\n",
    "\n",
    "    else:\n",
    "        print(\"No content\")\n",
    "    \n"
   ]
  }
 ],
 "metadata": {
  "kernelspec": {
   "display_name": "Python 3",
   "language": "python",
   "name": "python3"
  },
  "language_info": {
   "codemirror_mode": {
    "name": "ipython",
    "version": 3
   },
   "file_extension": ".py",
   "mimetype": "text/x-python",
   "name": "python",
   "nbconvert_exporter": "python",
   "pygments_lexer": "ipython3",
   "version": "3.12.1"
  }
 },
 "nbformat": 4,
 "nbformat_minor": 5
}
