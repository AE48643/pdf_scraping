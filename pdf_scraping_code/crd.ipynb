{
 "cells": [
  {
   "cell_type": "code",
   "execution_count": 24,
   "id": "02bc96aa",
   "metadata": {},
   "outputs": [],
   "source": [
    "import pandas as pd\n",
    "import numpy as np\n",
    "import openpyxl as op"
   ]
  },
  {
   "cell_type": "code",
   "execution_count": null,
   "id": "7448578d",
   "metadata": {},
   "outputs": [
    {
     "name": "stdout",
     "output_type": "stream",
     "text": [
      "[]\n"
     ]
    },
    {
     "name": "stderr",
     "output_type": "stream",
     "text": [
      "/usr/local/python/3.12.1/lib/python3.12/site-packages/openpyxl/styles/stylesheet.py:237: UserWarning: Workbook contains no default style, apply openpyxl's default\n",
      "  warn(\"Workbook contains no default style, apply openpyxl's default\")\n"
     ]
    }
   ],
   "source": [
    "\n",
    "\n",
    "tt_C = []\n",
    "\n",
    "excel_file_directory = \"../pdf_file/DA SP25.xlsx\"\n",
    "workbook = op.load_workbook(excel_file_directory)\n",
    "ws = workbook.active\n",
    "\n",
    "for cell in ws.iter_cols(min_row=ws.min_row, max_col=ws.max_column):\n",
    "    if cell in ws.merged_cell.ranges:\n",
    "        ws.unmerge_cells(start_row=ws.min_row, start_column=ws.min_column, end_column=ws.max_column, end_row=ws.max_row)\n",
    "    for cell in ws.iter_rows(min_col=14, max_col=15):  # Column N or O after unmerging\n",
    "        cell = row[0]\n",
    "        if cell.value == \"C\":\n",
    "            # Print value in column F or G after unmerging for the same row\n",
    "            tt_C.append(ws.cell(row=cell.row, column= 6).value)\n",
    "    print (tt_C)\n"
   ]
  },
  {
   "cell_type": "code",
   "execution_count": null,
   "id": "ccbd0ea3",
   "metadata": {},
   "outputs": [],
   "source": [
    "tt_C = []\n",
    "\n",
    "\n",
    "# Loop through the rows in columns N (14) and O (15)\n",
    "for row in ws.iter_rows(min_col=14, max_col=15):\n",
    "    for cell in row:\n",
    "        # Check if the cell is part of a merged range and only process the top-left cell\n",
    "        if cell.coordinate in ws.merged_cells:\n",
    "            for merged_range in ws.merged_cells.ranges:\n",
    "                if cell.coordinate in merged_range:\n",
    "                    # Get the top-left cell of the merged range\n",
    "                    min_col, min_row, _, _ = merged_range.bounds\n",
    "                    top_left_cell = ws.cell(row=min_row, column=min_col)\n",
    "                    \n",
    "                    # Only proceed if this is the top-left cell of the merged range\n",
    "                    if cell == top_left_cell:\n",
    "                        if str(cell.value).strip().upper() == \"C\":\n",
    "                            # If \"C\" is in Column N (14), get value from Column F (6)\n",
    "                            # If \"C\" is in Column O (15), get value from Column G (7)\n",
    "                            source_col = 6 if cell.column == 14 else 7\n",
    "                            value = ws.cell(row=cell.row, column=source_col).value\n",
    "                            tt_C.append(value)\n",
    "\n",
    "print(tt_C)\n"
   ]
  }
 ],
 "metadata": {
  "kernelspec": {
   "display_name": "Python 3",
   "language": "python",
   "name": "python3"
  },
  "language_info": {
   "codemirror_mode": {
    "name": "ipython",
    "version": 3
   },
   "file_extension": ".py",
   "mimetype": "text/x-python",
   "name": "python",
   "nbconvert_exporter": "python",
   "pygments_lexer": "ipython3",
   "version": "3.12.1"
  }
 },
 "nbformat": 4,
 "nbformat_minor": 5
}
