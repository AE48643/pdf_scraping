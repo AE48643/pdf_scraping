{
 "cells": [
  {
   "cell_type": "code",
   "execution_count": 40,
   "id": "6857c9b5",
   "metadata": {},
   "outputs": [
    {
     "name": "stdout",
     "output_type": "stream",
     "text": [
      "Page 1: Crd Completed = 4.00\n",
      "Page 1: Crd Completed = 0.00\n",
      "Page 1: Crd Completed = 3.00\n",
      "Page 1: Crd Completed = 3.00\n",
      "Page 1: Crd Completed = 3.00\n",
      "Page 1: Crd Completed = 3.00\n",
      "Page 1: Crd Completed = 3.00\n",
      "Page 1: Crd Completed = 3.00\n",
      "Page 1: Crd Completed = 3.00\n",
      "Page 1: Crd Completed = 3.00\n",
      "Page 2: Crd Completed = 3.00\n",
      "Page 2: Crd Completed = 0.00\n",
      "Page 2: Crd Completed = 39.00\n",
      "Page 2: Crd Completed = 3.00\n",
      "Page 2: Crd Completed = 3.00\n",
      "Page 2: Crd Completed = 6.00\n",
      "Page 2: Crd Completed = 0.00\n",
      "Page 2: Crd Completed = 3.00\n",
      "Page 2: Crd Completed = 3.00\n",
      "Page 2: Crd Completed = 2.00\n",
      "Page 3: Crd Completed = 3.00\n",
      "Page 3: Crd Completed = 2.00\n",
      "Page 3: Crd Completed = 3.00\n",
      "Page 3: Crd Completed = 3.00\n",
      "Page 3: Crd Completed = 3.00\n",
      "Page 3: Crd Completed = 6.00\n",
      "Page 3: Crd Completed = 3.00\n",
      "Page 3: Crd Completed = 3.00\n",
      "Page 3: Crd Completed = 41.00\n",
      "Page 3: Crd Completed = 3.00\n",
      "Page 4: Crd Completed = 12.00\n",
      "Page 4: Crd Completed = 6.00\n",
      "Page 4: Crd Completed = 18.00\n",
      "Page 4: Crd Completed = 7.00\n",
      "Page 4: Crd Completed = 7.00\n",
      "Total Credits completed = 112.0\n"
     ]
    }
   ],
   "source": [
    "import pdfplumber\n",
    "import re\n",
    "import pytesseract\n",
    "import numpy as np\n",
    "from pdf2image import convert_from_path\n",
    "from docx import Document  # For saving text as a Word document\n",
    "\n",
    "# Required Variables\n",
    "tt_crd_completed = 0\n",
    "\n",
    "# File Paths\n",
    "pdf_file_path = \"/workspaces/pdf_scraping/pdf_file/DA SP25.pdf\"\n",
    "\n",
    "# Convert PDF to images\n",
    "images = convert_from_path(pdf_file_path)\n",
    "\n",
    "# Regular expression to find \"Crd Completed: <number>\"\n",
    "pattern = r\"Crd Completed:\\s*([\\d.]+)\"\n",
    "\n",
    "# Loop through images\n",
    "for i, img in enumerate(images):\n",
    "    text = pytesseract.image_to_string(img)\n",
    "\n",
    "    # Clean text to remove NULL bytes and control characters\n",
    "    cleaned_text = re.sub(r\"[\\x00-\\x1F\\x7F]\", \"\", text)\n",
    "\n",
    "    # Find all matches for \"Crd Completed: <number>\"\n",
    "    matches = re.findall(pattern, cleaned_text)\n",
    "\n",
    "    # Print extracted credit values\n",
    "    if matches:\n",
    "        for match in matches:\n",
    "            if float(match) <= 12.00:\n",
    "                tt_crd_completed += float(match)\n",
    "            print(f\"Page {i + 1}: Crd Completed = {match}\")\n",
    "    else:\n",
    "        print(f\"No 'Crd Completed' found on page {i + 1}\")\n",
    "print(\"Total Credits completed = \" + str(tt_crd_completed))"
   ]
  }
 ],
 "metadata": {
  "kernelspec": {
   "display_name": "Python 3",
   "language": "python",
   "name": "python3"
  },
  "language_info": {
   "codemirror_mode": {
    "name": "ipython",
    "version": 3
   },
   "file_extension": ".py",
   "mimetype": "text/x-python",
   "name": "python",
   "nbconvert_exporter": "python",
   "pygments_lexer": "ipython3",
   "version": "3.12.1"
  }
 },
 "nbformat": 4,
 "nbformat_minor": 5
}
